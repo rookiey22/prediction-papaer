{
 "cells": [
  {
   "cell_type": "code",
   "execution_count": 14,
   "metadata": {},
   "outputs": [
    {
     "data": {
      "application/vnd.jupyter.widget-view+json": {
       "model_id": "f610a554c7e4407393220e02f53379fa",
       "version_major": 2,
       "version_minor": 0
      },
      "text/plain": [
       "MetricVisualizer(layout=Layout(align_self='stretch', height='500px'))"
      ]
     },
     "metadata": {},
     "output_type": "display_data"
    },
    {
     "name": "stdout",
     "output_type": "stream",
     "text": [
      "0.9235492315796668\n",
      "{'nan_mode': 'Min', 'eval_metric': 'RMSE', 'iterations': 1000, 'sampling_frequency': 'PerTree', 'leaf_estimation_method': 'Newton', 'od_pval': 0, 'grow_policy': 'SymmetricTree', 'penalties_coefficient': 1, 'boosting_type': 'Plain', 'model_shrink_mode': 'Constant', 'feature_border_type': 'GreedyLogSum', 'bayesian_matrix_reg': 0.10000000149011612, 'eval_fraction': 0, 'force_unit_auto_pair_weights': False, 'l2_leaf_reg': 6, 'random_strength': 1, 'od_type': 'Iter', 'rsm': 1, 'boost_from_average': True, 'model_size_reg': 0.5, 'pool_metainfo_options': {'tags': {}}, 'subsample': 0.800000011920929, 'use_best_model': True, 'od_wait': 50, 'random_seed': 42, 'depth': 6, 'posterior_sampling': False, 'border_count': 254, 'classes_count': 0, 'auto_class_weights': 'None', 'sparse_features_conflict_fraction': 0, 'leaf_estimation_backtracking': 'AnyImprovement', 'best_model_min_trees': 1, 'model_shrink_rate': 0, 'min_data_in_leaf': 1, 'loss_function': 'RMSE', 'learning_rate': 0.029999999329447743, 'score_function': 'Cosine', 'task_type': 'CPU', 'leaf_estimation_iterations': 1, 'bootstrap_type': 'MVS', 'max_leaves': 64}\n",
      "<bound method _CatBoostBase.get_best_score of <catboost.core.CatBoostRegressor object at 0x000001E01EA45A20>>\n",
      "0.8420422415530773\n",
      "Soil pH:16.70%\n",
      "Soil OM (mg/kg):16.44%\n",
      "Soil total Cd (mg/kg):66.86%\n",
      "Soil pH:16.70%\n",
      "Soil OM (mg/kg):16.44%\n",
      "Soil total Cd (mg/kg):66.86%\n"
     ]
    }
   ],
   "source": [
    "import pandas as pd\n",
    "from sklearn.model_selection import train_test_split, GridSearchCV\n",
    "from sklearn.ensemble import RandomForestRegressor\n",
    "from sklearn.metrics import mean_absolute_error, r2_score, mean_squared_error\n",
    "from sklearn.preprocessing import StandardScaler\n",
    "from sklearn.pipeline import make_pipeline\n",
    "from catboost import CatBoostRegressor,Pool\n",
    "data1 = pd.read_excel('data.xlsx',sheet_name='soil available Cd dataset')  # 替换为您的数据集文件路径\n",
    "\n",
    "X = data1[['Soil pH', 'Soil OM (mg/kg)', 'Soil total Cd (mg/kg)']]  # 特征\n",
    "y1 = data1['Soil available Cd (mg/kg)']  # 第一个目标变量\n",
    "# 分割数据集\n",
    "X_train, X_test, y1_train, y1_test = train_test_split(X, y1, test_size=0.2, random_state=42)\n",
    "train_pool=Pool(X_train,y1_train)\n",
    "test_pool=Pool(X_test,y1_test)\n",
    "total_pool=Pool(X,y1)\n",
    "model= CatBoostRegressor(learning_rate=0.03,\n",
    "silent=True,random_seed=42,l2_leaf_reg=6,od_wait=50)\n",
    "model.fit(train_pool,eval_set=test_pool,use_best_model=True,plot=True)\n",
    "\n",
    "\n",
    "#use model in test\n",
    "bestloss=model.get_best_score#best loss\n",
    "acc=model.score(X_test,y1_test)#准确率\n",
    "model.plot_tree(tree_idx=0,pool=test_pool)\n",
    "\n",
    "y_total_pred = model.predict(X)\n",
    "\n",
    "print(r2_score(y1,y_total_pred))\n",
    "print(model.get_all_params())#获得所有超参数设置\n",
    "print(bestloss)\n",
    "print(acc)\n",
    "for i,j in zip(X.columns,model.feature_importances_):\n",
    "    print('{}:{:.2f}%'.format(i,j))\n",
    "\n",
    "# Make predictions on the training and testing sets\n",
    "Y_train_pred = model.predict(X_train)\n",
    "Y_test_pred = model.predict(X_test)\n",
    "for i,j in zip(X.columns,model.feature_importances_):\n",
    "    print('{}:{:.2f}%'.format(i,j))"
   ]
  },
  {
   "cell_type": "code",
   "execution_count": 15,
   "metadata": {},
   "outputs": [
    {
     "data": {
      "text/html": [
       "<div>\n",
       "<style scoped>\n",
       "    .dataframe tbody tr th:only-of-type {\n",
       "        vertical-align: middle;\n",
       "    }\n",
       "\n",
       "    .dataframe tbody tr th {\n",
       "        vertical-align: top;\n",
       "    }\n",
       "\n",
       "    .dataframe thead th {\n",
       "        text-align: right;\n",
       "    }\n",
       "</style>\n",
       "<table border=\"1\" class=\"dataframe\">\n",
       "  <thead>\n",
       "    <tr style=\"text-align: right;\">\n",
       "      <th></th>\n",
       "      <th>#</th>\n",
       "      <th>Country/region</th>\n",
       "      <th>Soil pH</th>\n",
       "      <th>Soil OM (mg/kg)</th>\n",
       "      <th>Soil total Cd (mg/kg)</th>\n",
       "      <th>Soil available Cd (mg/kg)</th>\n",
       "      <th>References</th>\n",
       "    </tr>\n",
       "  </thead>\n",
       "  <tbody>\n",
       "    <tr>\n",
       "      <th>0</th>\n",
       "      <td>1</td>\n",
       "      <td>China</td>\n",
       "      <td>4.90</td>\n",
       "      <td>60.80</td>\n",
       "      <td>0.510</td>\n",
       "      <td>0.360</td>\n",
       "      <td>14.0</td>\n",
       "    </tr>\n",
       "    <tr>\n",
       "      <th>1</th>\n",
       "      <td>2</td>\n",
       "      <td>NaN</td>\n",
       "      <td>5.30</td>\n",
       "      <td>63.30</td>\n",
       "      <td>0.580</td>\n",
       "      <td>0.450</td>\n",
       "      <td>NaN</td>\n",
       "    </tr>\n",
       "    <tr>\n",
       "      <th>2</th>\n",
       "      <td>3</td>\n",
       "      <td>NaN</td>\n",
       "      <td>5.22</td>\n",
       "      <td>40.93</td>\n",
       "      <td>0.750</td>\n",
       "      <td>0.480</td>\n",
       "      <td>15.0</td>\n",
       "    </tr>\n",
       "    <tr>\n",
       "      <th>3</th>\n",
       "      <td>4</td>\n",
       "      <td>NaN</td>\n",
       "      <td>4.90</td>\n",
       "      <td>15.52</td>\n",
       "      <td>0.727</td>\n",
       "      <td>0.081</td>\n",
       "      <td>16.0</td>\n",
       "    </tr>\n",
       "    <tr>\n",
       "      <th>4</th>\n",
       "      <td>5</td>\n",
       "      <td>NaN</td>\n",
       "      <td>5.04</td>\n",
       "      <td>36.60</td>\n",
       "      <td>2.930</td>\n",
       "      <td>0.250</td>\n",
       "      <td>17.0</td>\n",
       "    </tr>\n",
       "  </tbody>\n",
       "</table>\n",
       "</div>"
      ],
      "text/plain": [
       "   # Country/region  ...  Soil available Cd (mg/kg)  References\n",
       "0  1          China  ...                      0.360        14.0\n",
       "1  2            NaN  ...                      0.450         NaN\n",
       "2  3            NaN  ...                      0.480        15.0\n",
       "3  4            NaN  ...                      0.081        16.0\n",
       "4  5            NaN  ...                      0.250        17.0\n",
       "\n",
       "[5 rows x 7 columns]"
      ]
     },
     "execution_count": 15,
     "metadata": {},
     "output_type": "execute_result"
    }
   ],
   "source": [
    "import pandas as pd\n",
    "from sklearn.model_selection import train_test_split, GridSearchCV\n",
    "from sklearn.ensemble import RandomForestRegressor\n",
    "from sklearn.metrics import mean_absolute_error, r2_score, mean_squared_error\n",
    "from sklearn.preprocessing import StandardScaler\n",
    "from sklearn.pipeline import make_pipeline\n",
    "from catboost import CatBoostRegressor,Pool\n",
    "data1 = pd.read_excel('data.xlsx',sheet_name='soil available Cd dataset')  # 替换为您的数据集文件路径\n",
    "data1.head()"
   ]
  },
  {
   "cell_type": "code",
   "execution_count": 16,
   "metadata": {},
   "outputs": [],
   "source": [
    "import pickle\n",
    "with open ('model.pkl','wb') as f :\n",
    "    pickle.dump(model,f)\n",
    "    "
   ]
  },
  {
   "cell_type": "code",
   "execution_count": 18,
   "metadata": {},
   "outputs": [
    {
     "name": "stdout",
     "output_type": "stream",
     "text": [
      "     Soil pH  Soil OM (mg/kg)  Soil total Cd (mg/kg)\n",
      "280     6.76             9.73                  0.140\n",
      "78      7.24            32.85                  0.649 [0.04203946 0.16016158] [0.04203946 0.16016158]\n"
     ]
    }
   ],
   "source": [
    "with open('model.pkl','rb') as f :\n",
    "    model2 = pickle.load(f)\n",
    "    print((X_test[0:2]),model2.predict(X_test[0:2]),\n",
    "          model.predict(X_test[0:2]))\n"
   ]
  },
  {
   "cell_type": "code",
   "execution_count": 20,
   "metadata": {},
   "outputs": [
    {
     "name": "stdout",
     "output_type": "stream",
     "text": [
      "[0.04203946]\n"
     ]
    }
   ],
   "source": [
    "import numpy as np\n",
    "\n",
    "sample = np.array([6.76, 9.73, 0.140])\n",
    "print(model.predict(sample.reshape(1, -1)))"
   ]
  }
 ],
 "metadata": {
  "kernelspec": {
   "display_name": "base",
   "language": "python",
   "name": "python3"
  },
  "language_info": {
   "codemirror_mode": {
    "name": "ipython",
    "version": 3
   },
   "file_extension": ".py",
   "mimetype": "text/x-python",
   "name": "python",
   "nbconvert_exporter": "python",
   "pygments_lexer": "ipython3",
   "version": "3.10.13"
  }
 },
 "nbformat": 4,
 "nbformat_minor": 2
}
